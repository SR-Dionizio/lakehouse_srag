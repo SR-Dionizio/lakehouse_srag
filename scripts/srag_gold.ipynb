{
 "cells": [
  {
   "cell_type": "code",
   "execution_count": null,
   "id": "initial_id",
   "metadata": {
    "collapsed": true,
    "execution": {
     "iopub.execute_input": "2025-03-18T22:43:32.370606Z",
     "iopub.status.busy": "2025-03-18T22:43:32.370403Z",
     "iopub.status.idle": "2025-03-18T22:43:32.469453Z",
     "shell.execute_reply": "2025-03-18T22:43:32.468710Z"
    },
    "jupyter": {
     "source_hidden": true
    },
    "papermill": {
     "duration": 0.102844,
     "end_time": "2025-03-18T22:43:32.470455",
     "exception": false,
     "start_time": "2025-03-18T22:43:32.367611",
     "status": "completed"
    },
    "tags": []
   },
   "outputs": [],
   "source": [
    "import os\n",
    "\n",
    "from pyspark.sql import SparkSession\n",
    "import pyspark.sql.functions as F"
   ]
  },
  {
   "cell_type": "markdown",
   "id": "e173fdcc2c3bc3de",
   "metadata": {
    "collapsed": false,
    "papermill": {
     "duration": 0.00196,
     "end_time": "2025-03-18T22:43:32.474535",
     "exception": false,
     "start_time": "2025-03-18T22:43:32.472575",
     "status": "completed"
    },
    "tags": []
   },
   "source": [
    "## Criando o job Spark"
   ]
  },
  {
   "cell_type": "code",
   "execution_count": null,
   "id": "4d38c96df81e2101",
   "metadata": {
    "execution": {
     "iopub.execute_input": "2025-03-18T22:43:32.479950Z",
     "iopub.status.busy": "2025-03-18T22:43:32.479664Z",
     "iopub.status.idle": "2025-03-18T22:43:36.605704Z",
     "shell.execute_reply": "2025-03-18T22:43:36.604952Z"
    },
    "jupyter": {
     "source_hidden": true
    },
    "papermill": {
     "duration": 4.13034,
     "end_time": "2025-03-18T22:43:36.607163",
     "exception": false,
     "start_time": "2025-03-18T22:43:32.476823",
     "status": "completed"
    },
    "tags": []
   },
   "outputs": [],
   "source": [
    "spark = SparkSession.builder \\\n",
    "    .appName(\"SragGold\") \\\n",
    "    .master(\"local[*]\") \\\n",
    "    .getOrCreate()\n",
    "spark.conf.set(\"spark.sql.legacy.timeParserPolicy\", \"LEGACY\")"
   ]
  },
  {
   "cell_type": "code",
   "execution_count": null,
   "id": "12c6e4ad269168aa",
   "metadata": {
    "execution": {
     "iopub.execute_input": "2025-03-18T22:43:36.612944Z",
     "iopub.status.busy": "2025-03-18T22:43:36.612734Z",
     "iopub.status.idle": "2025-03-18T22:43:36.617256Z",
     "shell.execute_reply": "2025-03-18T22:43:36.616589Z"
    },
    "jupyter": {
     "source_hidden": true
    },
    "papermill": {
     "duration": 0.008608,
     "end_time": "2025-03-18T22:43:36.618303",
     "exception": false,
     "start_time": "2025-03-18T22:43:36.609695",
     "status": "completed"
    },
    "tags": []
   },
   "outputs": [],
   "source": [
    "spark.sparkContext.setLogLevel(\"ERROR\")"
   ]
  },
  {
   "cell_type": "markdown",
   "id": "db83f7ccd6e1de5c",
   "metadata": {
    "collapsed": false,
    "papermill": {
     "duration": 0.002073,
     "end_time": "2025-03-18T22:43:36.622652",
     "exception": false,
     "start_time": "2025-03-18T22:43:36.620579",
     "status": "completed"
    },
    "tags": []
   },
   "source": [
    "## Lendo os arquivos Parquet"
   ]
  },
  {
   "cell_type": "code",
   "execution_count": null,
   "id": "bc2641964159a2da",
   "metadata": {
    "execution": {
     "iopub.execute_input": "2025-03-18T22:43:36.628299Z",
     "iopub.status.busy": "2025-03-18T22:43:36.628102Z",
     "iopub.status.idle": "2025-03-18T22:43:38.696860Z",
     "shell.execute_reply": "2025-03-18T22:43:38.696161Z"
    },
    "jupyter": {
     "source_hidden": true
    },
    "papermill": {
     "duration": 2.072861,
     "end_time": "2025-03-18T22:43:38.697841",
     "exception": false,
     "start_time": "2025-03-18T22:43:36.624980",
     "status": "completed"
    },
    "tags": []
   },
   "outputs": [],
   "source": [
    "base_dir = os.path.abspath(os.path.join(os.getcwd(), \"../\")) \n",
    "data_path = os.path.join(base_dir, \"lakehouse_srag/data/silver/srag.parquet\")\n",
    "df = spark.read.parquet(\n",
    "    data_path\n",
    ")"
   ]
  },
  {
   "cell_type": "markdown",
   "id": "115654faf828e881",
   "metadata": {
    "collapsed": false,
    "papermill": {
     "duration": 0.004891,
     "end_time": "2025-03-18T22:43:38.705208",
     "exception": false,
     "start_time": "2025-03-18T22:43:38.700317",
     "status": "completed"
    },
    "tags": []
   },
   "source": [
    "## Criando a fCasos"
   ]
  },
  {
   "cell_type": "code",
   "execution_count": null,
   "id": "522aa6801ea104d4",
   "metadata": {
    "collapsed": false,
    "execution": {
     "iopub.execute_input": "2025-03-18T22:43:38.710921Z",
     "iopub.status.busy": "2025-03-18T22:43:38.710712Z",
     "iopub.status.idle": "2025-03-18T22:43:38.836345Z",
     "shell.execute_reply": "2025-03-18T22:43:38.835532Z"
    },
    "jupyter": {
     "source_hidden": true
    },
    "papermill": {
     "duration": 0.129999,
     "end_time": "2025-03-18T22:43:38.837691",
     "exception": false,
     "start_time": "2025-03-18T22:43:38.707692",
     "status": "completed"
    },
    "tags": []
   },
   "outputs": [],
   "source": [
    "df_fato_casos = df.select(\n",
    "    'DT_NOTIFIC', 'SEM_NOT', 'DT_SIN_PRI', 'SEM_PRI', 'EVOLUCAO',\n",
    "    'CLASSI_FIN', 'CRITERIO', 'HOSPITAL', 'UTI', 'SUPORT_VEN',\n",
    "    'PCR_RESUL', 'AN_SARS2', 'VACINA_COV', 'DOSE_1_COV', 'DOSE_2_COV', \n",
    "    'DOSE_REF', 'TRAT_COV', 'TIPO_TRAT'\n",
    ")"
   ]
  },
  {
   "cell_type": "markdown",
   "id": "6d0143e6c922b04c",
   "metadata": {
    "collapsed": false,
    "papermill": {
     "duration": 0.002433,
     "end_time": "2025-03-18T22:43:38.843133",
     "exception": false,
     "start_time": "2025-03-18T22:43:38.840700",
     "status": "completed"
    },
    "tags": []
   },
   "source": [
    "## Criando a fSintomas"
   ]
  },
  {
   "cell_type": "code",
   "execution_count": null,
   "id": "813adc047caee4d9",
   "metadata": {
    "collapsed": false,
    "execution": {
     "iopub.execute_input": "2025-03-18T22:43:38.849297Z",
     "iopub.status.busy": "2025-03-18T22:43:38.848682Z",
     "iopub.status.idle": "2025-03-18T22:43:39.067330Z",
     "shell.execute_reply": "2025-03-18T22:43:39.066463Z"
    },
    "jupyter": {
     "source_hidden": true
    },
    "papermill": {
     "duration": 0.223006,
     "end_time": "2025-03-18T22:43:39.068557",
     "exception": false,
     "start_time": "2025-03-18T22:43:38.845551",
     "status": "completed"
    },
    "tags": []
   },
   "outputs": [],
   "source": [
    "df_fato_sintomas = df.groupby('DT_NOTIFIC').agg(\n",
    "    F.sum('FEBRE').alias('FEBRE'),\n",
    "    F.sum('TOSSE').alias('TOSSE'),\n",
    "    F.sum('GARGANTA').alias('GARGANTA'),\n",
    "    F.sum('DISPNEIA').alias('DISPNEIA'),\n",
    "    F.sum('SATURACAO').alias('SATURACAO'),\n",
    "    F.sum('DIARREIA').alias('DIARREIA'),\n",
    "    F.sum('VOMITO').alias('VOMITO'),\n",
    "    F.sum('DOR_ABD').alias('DOR_ABD'),\n",
    "    F.sum('FADIGA').alias('FADIGA'),\n",
    "    F.sum('PERD_OLFT').alias('PERD_OLFT'),\n",
    "    F.sum('PERD_PALA').alias('PERD_PALA'),\n",
    "    F.sum('OUTRO_SIN').alias('OUTRO_SIN')\n",
    ")"
   ]
  },
  {
   "cell_type": "markdown",
   "id": "cc6ac63ebec2d47f",
   "metadata": {
    "collapsed": false,
    "papermill": {
     "duration": 0.004171,
     "end_time": "2025-03-18T22:43:39.075053",
     "exception": false,
     "start_time": "2025-03-18T22:43:39.070882",
     "status": "completed"
    },
    "tags": []
   },
   "source": [
    "## Criando a fInternações"
   ]
  },
  {
   "cell_type": "code",
   "execution_count": null,
   "id": "6cdae8b704b551cd",
   "metadata": {
    "collapsed": false,
    "execution": {
     "iopub.execute_input": "2025-03-18T22:43:39.080548Z",
     "iopub.status.busy": "2025-03-18T22:43:39.080340Z",
     "iopub.status.idle": "2025-03-18T22:43:39.111802Z",
     "shell.execute_reply": "2025-03-18T22:43:39.111097Z"
    },
    "jupyter": {
     "source_hidden": true
    },
    "papermill": {
     "duration": 0.035451,
     "end_time": "2025-03-18T22:43:39.112777",
     "exception": false,
     "start_time": "2025-03-18T22:43:39.077326",
     "status": "completed"
    },
    "tags": []
   },
   "outputs": [],
   "source": [
    "df_fato_internacoes = df.select(\n",
    "    'DT_NOTIFIC', 'HOSPITAL', 'DT_INTERNA', 'UTI', 'DT_ENTUTI',\n",
    "    'DT_SAIDUTI', 'SUPORT_VEN', 'RAIOX_RES', 'TOMO_RES'\n",
    ")"
   ]
  },
  {
   "cell_type": "markdown",
   "id": "ae56587bd50c9489",
   "metadata": {
    "collapsed": false,
    "papermill": {
     "duration": 0.0024,
     "end_time": "2025-03-18T22:43:39.117567",
     "exception": false,
     "start_time": "2025-03-18T22:43:39.115167",
     "status": "completed"
    },
    "tags": []
   },
   "source": [
    "## Criando a fTestes"
   ]
  },
  {
   "cell_type": "code",
   "execution_count": null,
   "id": "ab938e4d348f5b70",
   "metadata": {
    "collapsed": false,
    "execution": {
     "iopub.execute_input": "2025-03-18T22:43:39.123679Z",
     "iopub.status.busy": "2025-03-18T22:43:39.123308Z",
     "iopub.status.idle": "2025-03-18T22:43:39.149591Z",
     "shell.execute_reply": "2025-03-18T22:43:39.148923Z"
    },
    "jupyter": {
     "source_hidden": true
    },
    "papermill": {
     "duration": 0.030659,
     "end_time": "2025-03-18T22:43:39.150677",
     "exception": false,
     "start_time": "2025-03-18T22:43:39.120018",
     "status": "completed"
    },
    "tags": []
   },
   "outputs": [],
   "source": [
    "df_fato_testes = df.select(\n",
    "    'DT_NOTIFIC', 'PCR_RESUL', 'DT_PCR', 'POS_PCRFLU', 'PCR_SARS2',\n",
    "    'POS_PCROUT', 'AN_SARS2', 'RES_IGG', 'RES_IGM', 'RES_IGA'\n",
    ")"
   ]
  },
  {
   "cell_type": "markdown",
   "id": "7ad414c70cb660",
   "metadata": {
    "collapsed": false,
    "papermill": {
     "duration": 0.002365,
     "end_time": "2025-03-18T22:43:39.155534",
     "exception": false,
     "start_time": "2025-03-18T22:43:39.153169",
     "status": "completed"
    },
    "tags": []
   },
   "source": [
    "## Criando a dTempo"
   ]
  },
  {
   "cell_type": "code",
   "execution_count": null,
   "id": "183c33dcd119bf79",
   "metadata": {
    "collapsed": false,
    "execution": {
     "iopub.execute_input": "2025-03-18T22:43:39.161253Z",
     "iopub.status.busy": "2025-03-18T22:43:39.161036Z",
     "iopub.status.idle": "2025-03-18T22:43:39.213750Z",
     "shell.execute_reply": "2025-03-18T22:43:39.213065Z"
    },
    "jupyter": {
     "source_hidden": true
    },
    "papermill": {
     "duration": 0.056764,
     "end_time": "2025-03-18T22:43:39.214731",
     "exception": false,
     "start_time": "2025-03-18T22:43:39.157967",
     "status": "completed"
    },
    "tags": []
   },
   "outputs": [],
   "source": [
    "df_dim_tempo = df.select('DT_NOTIFIC').distinct().withColumn('Ano', F.year('DT_NOTIFIC'))\\\n",
    "    .withColumn('Mes', F.month('DT_NOTIFIC')).withColumn('Semana', F.weekofyear('DT_NOTIFIC'))"
   ]
  },
  {
   "cell_type": "markdown",
   "id": "83e27570a47ce15c",
   "metadata": {
    "collapsed": false,
    "papermill": {
     "duration": 0.002353,
     "end_time": "2025-03-18T22:43:39.219765",
     "exception": false,
     "start_time": "2025-03-18T22:43:39.217412",
     "status": "completed"
    },
    "tags": []
   },
   "source": [
    "## Criando a dPacientes"
   ]
  },
  {
   "cell_type": "code",
   "execution_count": null,
   "id": "385d8a8722cda390",
   "metadata": {
    "collapsed": false,
    "execution": {
     "iopub.execute_input": "2025-03-18T22:43:39.225700Z",
     "iopub.status.busy": "2025-03-18T22:43:39.225500Z",
     "iopub.status.idle": "2025-03-18T22:43:39.253198Z",
     "shell.execute_reply": "2025-03-18T22:43:39.252508Z"
    },
    "jupyter": {
     "source_hidden": true
    },
    "papermill": {
     "duration": 0.03211,
     "end_time": "2025-03-18T22:43:39.254269",
     "exception": false,
     "start_time": "2025-03-18T22:43:39.222159",
     "status": "completed"
    },
    "tags": []
   },
   "outputs": [],
   "source": [
    "df_dim_pacientes = df.select(\n",
    "    'CS_SEXO', 'CS_RACA', 'NU_IDADE_N', 'CS_ESCOL_N', 'CS_ZONA',\n",
    "    'PUERPERA', 'FATOR_RISC', 'CARDIOPATI', 'DIABETES', 'OBESIDADE'\n",
    ")"
   ]
  },
  {
   "cell_type": "markdown",
   "id": "ebc42464bac61636",
   "metadata": {
    "collapsed": false,
    "papermill": {
     "duration": 0.002354,
     "end_time": "2025-03-18T22:43:39.259185",
     "exception": false,
     "start_time": "2025-03-18T22:43:39.256831",
     "status": "completed"
    },
    "tags": []
   },
   "source": [
    "## Criando a dLocalização"
   ]
  },
  {
   "cell_type": "code",
   "execution_count": null,
   "id": "2342c5a4773dc8af",
   "metadata": {
    "collapsed": false,
    "execution": {
     "iopub.execute_input": "2025-03-18T22:43:39.265214Z",
     "iopub.status.busy": "2025-03-18T22:43:39.265010Z",
     "iopub.status.idle": "2025-03-18T22:43:39.286134Z",
     "shell.execute_reply": "2025-03-18T22:43:39.285436Z"
    },
    "jupyter": {
     "source_hidden": true
    },
    "papermill": {
     "duration": 0.025514,
     "end_time": "2025-03-18T22:43:39.287207",
     "exception": false,
     "start_time": "2025-03-18T22:43:39.261693",
     "status": "completed"
    },
    "tags": []
   },
   "outputs": [],
   "source": [
    "df_dim_localizacao = df.select(\n",
    "    'SG_UF_NOT', 'CO_MUN_NOT', 'ID_REGIONA', 'ID_MN_RESI'\n",
    ").distinct()"
   ]
  },
  {
   "cell_type": "code",
   "execution_count": null,
   "id": "c06d6a12566b31f9",
   "metadata": {
    "collapsed": false,
    "execution": {
     "iopub.execute_input": "2025-03-18T22:43:39.293095Z",
     "iopub.status.busy": "2025-03-18T22:43:39.292894Z",
     "iopub.status.idle": "2025-03-18T22:43:39.297397Z",
     "shell.execute_reply": "2025-03-18T22:43:39.296414Z"
    },
    "jupyter": {
     "source_hidden": true
    },
    "papermill": {
     "duration": 0.009248,
     "end_time": "2025-03-18T22:43:39.298934",
     "exception": false,
     "start_time": "2025-03-18T22:43:39.289686",
     "status": "completed"
    },
    "tags": []
   },
   "outputs": [],
   "source": [
    "tabelas = {\n",
    "    \"fato_casos\": df_fato_casos,\n",
    "    \"fato_sintomas\": df_fato_sintomas,\n",
    "    \"fato_internacoes\": df_fato_internacoes,\n",
    "    \"fato_testes\": df_fato_testes,\n",
    "    \"dim_tempo\": df_dim_tempo,\n",
    "    \"dim_pacientes\": df_dim_pacientes,\n",
    "    \"dim_localizacao\": df_dim_localizacao\n",
    "}"
   ]
  },
  {
   "cell_type": "code",
   "execution_count": null,
   "id": "57440bce0d541725",
   "metadata": {
    "collapsed": false,
    "execution": {
     "iopub.execute_input": "2025-03-18T22:43:39.304749Z",
     "iopub.status.busy": "2025-03-18T22:43:39.304423Z",
     "iopub.status.idle": "2025-03-18T22:43:52.172605Z",
     "shell.execute_reply": "2025-03-18T22:43:52.171528Z"
    },
    "jupyter": {
     "source_hidden": true
    },
    "papermill": {
     "duration": 12.872499,
     "end_time": "2025-03-18T22:43:52.173975",
     "exception": false,
     "start_time": "2025-03-18T22:43:39.301476",
     "status": "completed"
    },
    "tags": []
   },
   "outputs": [],
   "source": [
    "for nome_tabela, df_tabela in tabelas.items():\n",
    "    base_dir = os.path.abspath(os.path.join(os.getcwd(), \"../\")) \n",
    "    caminho = os.path.join(base_dir, f\"lakehouse_srag/data/gold/{nome_tabela}\")\n",
    "    df_tabela.write.mode(\"overwrite\").format(\"parquet\").save(caminho)"
   ]
  }
 ],
 "metadata": {
  "kernelspec": {
   "display_name": "Python 3",
   "language": "python",
   "name": "python3"
  },
  "language_info": {
   "codemirror_mode": {
    "name": "ipython",
    "version": 3
   },
   "file_extension": ".py",
   "mimetype": "text/x-python",
   "name": "python",
   "nbconvert_exporter": "python",
   "pygments_lexer": "ipython3",
   "version": "3.11.9"
  },
  "papermill": {
   "default_parameters": {},
   "duration": 23.223602,
   "end_time": "2025-03-18T22:43:54.797670",
   "environment_variables": {},
   "exception": null,
   "input_path": "/home/daniel/lakehouse_srag/scripts/srag_gold.ipynb",
   "output_path": "/home/daniel/lakehouse_srag/scripts/srag_gold.ipynb",
   "parameters": {
    "execution_date": "2025-03-17"
   },
   "start_time": "2025-03-18T22:43:31.574068",
   "version": "2.6.0"
  }
 },
 "nbformat": 4,
 "nbformat_minor": 5
}
