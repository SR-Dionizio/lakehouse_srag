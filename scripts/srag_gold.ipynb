{
 "cells": [
  {
   "cell_type": "code",
   "id": "initial_id",
   "metadata": {
    "collapsed": true,
    "ExecuteTime": {
     "end_time": "2025-01-24T12:23:06.397584Z",
     "start_time": "2025-01-24T12:23:06.258548Z"
    }
   },
   "source": [
    "import os\n",
    "\n",
    "from pyspark.sql import SparkSession\n",
    "import pyspark.sql.functions as F"
   ],
   "outputs": [],
   "execution_count": 1
  },
  {
   "metadata": {},
   "cell_type": "code",
   "source": [
    "spark = SparkSession.builder \\\n",
    "    .appName(\"SragGold\") \\\n",
    "    .master(\"local[*]\") \\\n",
    "    .getOrCreate()\n",
    "spark.conf.set(\"spark.sql.legacy.timeParserPolicy\", \"LEGACY\")"
   ],
   "id": "4d38c96df81e2101",
   "outputs": [],
   "execution_count": null
  },
  {
   "metadata": {
    "ExecuteTime": {
     "end_time": "2025-01-24T12:23:51.348875Z",
     "start_time": "2025-01-24T12:23:51.341700Z"
    }
   },
   "cell_type": "code",
   "source": "spark.sparkContext.setLogLevel(\"ERROR\")",
   "id": "12c6e4ad269168aa",
   "outputs": [],
   "execution_count": 3
  },
  {
   "metadata": {
    "ExecuteTime": {
     "end_time": "2025-01-24T12:27:05.945608Z",
     "start_time": "2025-01-24T12:27:04.520133Z"
    }
   },
   "cell_type": "code",
   "source": [
    "base_dir = os.path.abspath(os.path.join(os.getcwd(), \"../\")) \n",
    "data_path = os.path.join(base_dir, \"data/silver/srag.parquet\")\n",
    "df = spark.read.parquet(\n",
    "    data_path\n",
    ")"
   ],
   "id": "bc2641964159a2da",
   "outputs": [],
   "execution_count": 9
  },
  {
   "metadata": {
    "ExecuteTime": {
     "end_time": "2025-01-24T12:44:11.761126Z",
     "start_time": "2025-01-24T12:44:11.510945Z"
    }
   },
   "cell_type": "code",
   "source": [
    "sinais_sintomas = df.groupby(\n",
    "    'DT_NOTIFIC'\n",
    ").agg(\n",
    "    F.sum(F.when(F.col('FEBRE') == 1, 1).otherwise(0)).alias('FEBRE'),\n",
    "    F.sum(F.when(F.col('TOSSE') == 1, 1).otherwise(0)).alias('TOSSE'),\n",
    "    F.sum(F.when(F.col('GARGANTA') == 1, 1).otherwise(0)).alias('DOR_GARGANTA'),\n",
    "    F.sum(F.when(F.col('DISPNEIA') == 1, 1).otherwise(0)).alias('DISPNEIA'),\n",
    "    F.sum(F.when(F.col('DESC_RESP') == 1, 1).otherwise(0)).alias('DESC_RESP'),\n",
    "    F.sum(F.when(F.col('SATURACAO') == 1, 1).otherwise(0)).alias('SATURACAO'),\n",
    "    F.sum(F.when(F.col('DIARREIA') == 1, 1).otherwise(0)).alias('DIARREIA'),\n",
    "    F.sum(F.when(F.col('VOMITO') == 1, 1).otherwise(0)).alias('VOMITO'),\n",
    "    F.sum(F.when(F.col('DOR_ABD') == 1, 1).otherwise(0)).alias('DOR_ABD'),\n",
    "    F.sum(F.when(F.col('FADIGA') == 1, 1).otherwise(0)).alias('FADIGA'),\n",
    "    F.sum(F.when(F.col('PERD_OLFT') == 1, 1).otherwise(0)).alias('PERD_OLFT'),\n",
    "    F.sum(F.when(F.col('PERD_PALA') == 1, 1).otherwise(0)).alias('PERD_PALA'),\n",
    "    F.sum(F.when(F.col('OUTRO_SIN') == 1, 1).otherwise(0)).alias('OUTRO_SIN'),\n",
    ")\n"
   ],
   "id": "e11c1abbb9a8ecf8",
   "outputs": [],
   "execution_count": 12
  }
 ],
 "metadata": {
  "kernelspec": {
   "display_name": "Python 3",
   "language": "python",
   "name": "python3"
  },
  "language_info": {
   "codemirror_mode": {
    "name": "ipython",
    "version": 2
   },
   "file_extension": ".py",
   "mimetype": "text/x-python",
   "name": "python",
   "nbconvert_exporter": "python",
   "pygments_lexer": "ipython2",
   "version": "2.7.6"
  }
 },
 "nbformat": 4,
 "nbformat_minor": 5
}
