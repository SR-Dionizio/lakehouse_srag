{
 "cells": [
  {
   "cell_type": "code",
   "id": "initial_id",
   "metadata": {
    "collapsed": true
   },
   "source": [
    "import os\n",
    "\n",
    "from pyspark.sql import SparkSession\n",
    "import pyspark.sql.functions as F"
   ],
   "outputs": [],
   "execution_count": null
  },
  {
   "cell_type": "markdown",
   "source": [
    "## Criando o job Spark"
   ],
   "metadata": {
    "collapsed": false
   },
   "id": "e173fdcc2c3bc3de"
  },
  {
   "metadata": {},
   "cell_type": "code",
   "source": [
    "spark = SparkSession.builder \\\n",
    "    .appName(\"SragGold\") \\\n",
    "    .master(\"local[*]\") \\\n",
    "    .getOrCreate()\n",
    "spark.conf.set(\"spark.sql.legacy.timeParserPolicy\", \"LEGACY\")"
   ],
   "id": "4d38c96df81e2101",
   "outputs": [],
   "execution_count": null
  },
  {
   "metadata": {},
   "cell_type": "code",
   "source": [
    "spark.sparkContext.setLogLevel(\"ERROR\")"
   ],
   "id": "12c6e4ad269168aa",
   "outputs": [],
   "execution_count": null
  },
  {
   "cell_type": "markdown",
   "source": [
    "## Lendo os arquivos Parquet"
   ],
   "metadata": {
    "collapsed": false
   },
   "id": "db83f7ccd6e1de5c"
  },
  {
   "metadata": {},
   "cell_type": "code",
   "source": [
    "base_dir = os.path.abspath(os.path.join(os.getcwd(), \"../\")) \n",
    "data_path = os.path.join(base_dir, \"data/silver/srag.parquet\")\n",
    "df = spark.read.parquet(\n",
    "    data_path\n",
    ")"
   ],
   "id": "bc2641964159a2da",
   "outputs": [],
   "execution_count": null
  },
  {
   "cell_type": "markdown",
   "source": [
    "## Criando a fCasos"
   ],
   "metadata": {
    "collapsed": false
   },
   "id": "115654faf828e881"
  },
  {
   "cell_type": "code",
   "outputs": [],
   "source": [
    "df_fato_casos = df.select(\n",
    "    'DT_NOTIFIC', 'SEM_NOT', 'DT_SIN_PRI', 'SEM_PRI', 'EVOLUCAO',\n",
    "    'CLASSI_FIN', 'CRITERIO', 'HOSPITAL', 'UTI', 'SUPORT_VEN',\n",
    "    'PCR_RESUL', 'AN_SARS2', 'VACINA_COV', 'DOSE_1_COV', 'DOSE_2_COV', \n",
    "    'DOSE_REF', 'TRAT_COV', 'TIPO_TRAT'\n",
    ")"
   ],
   "metadata": {
    "collapsed": false
   },
   "id": "522aa6801ea104d4",
   "execution_count": null
  },
  {
   "cell_type": "markdown",
   "source": [
    "## Criando a fSintomas"
   ],
   "metadata": {
    "collapsed": false
   },
   "id": "6d0143e6c922b04c"
  },
  {
   "cell_type": "code",
   "outputs": [],
   "source": [
    "df_fato_sintomas = df.groupby('DT_NOTIFIC').agg(\n",
    "    F.sum('FEBRE').alias('FEBRE'),\n",
    "    F.sum('TOSSE').alias('TOSSE'),\n",
    "    F.sum('GARGANTA').alias('GARGANTA'),\n",
    "    F.sum('DISPNEIA').alias('DISPNEIA'),\n",
    "    F.sum('SATURACAO').alias('SATURACAO'),\n",
    "    F.sum('DIARREIA').alias('DIARREIA'),\n",
    "    F.sum('VOMITO').alias('VOMITO'),\n",
    "    F.sum('DOR_ABD').alias('DOR_ABD'),\n",
    "    F.sum('FADIGA').alias('FADIGA'),\n",
    "    F.sum('PERD_OLFT').alias('PERD_OLFT'),\n",
    "    F.sum('PERD_PALA').alias('PERD_PALA'),\n",
    "    F.sum('OUTRO_SIN').alias('OUTRO_SIN')\n",
    ")"
   ],
   "metadata": {
    "collapsed": false
   },
   "id": "813adc047caee4d9",
   "execution_count": null
  },
  {
   "cell_type": "markdown",
   "source": [
    "## Criando a fInternações"
   ],
   "metadata": {
    "collapsed": false
   },
   "id": "cc6ac63ebec2d47f"
  },
  {
   "cell_type": "code",
   "outputs": [],
   "source": [
    "df_fato_internacoes = df.select(\n",
    "    'DT_NOTIFIC', 'HOSPITAL', 'DT_INTERNA', 'UTI', 'DT_ENTUTI',\n",
    "    'DT_SAIDUTI', 'SUPORT_VEN', 'RAIOX_RES', 'TOMO_RES'\n",
    ")"
   ],
   "metadata": {
    "collapsed": false
   },
   "id": "6cdae8b704b551cd",
   "execution_count": null
  },
  {
   "cell_type": "markdown",
   "source": [
    "## Criando a fTestes"
   ],
   "metadata": {
    "collapsed": false
   },
   "id": "ae56587bd50c9489"
  },
  {
   "cell_type": "code",
   "outputs": [],
   "source": [
    "df_fato_testes = df.select(\n",
    "    'DT_NOTIFIC', 'PCR_RESUL', 'DT_PCR', 'POS_PCRFLU', 'PCR_SARS2',\n",
    "    'POS_PCROUT', 'AN_SARS2', 'RES_IGG', 'RES_IGM', 'RES_IGA'\n",
    ")"
   ],
   "metadata": {
    "collapsed": false
   },
   "id": "ab938e4d348f5b70",
   "execution_count": null
  },
  {
   "cell_type": "markdown",
   "source": [
    "## Criando a dTempo"
   ],
   "metadata": {
    "collapsed": false
   },
   "id": "7ad414c70cb660"
  },
  {
   "cell_type": "code",
   "outputs": [],
   "source": [
    "df_dim_tempo = df.select('DT_NOTIFIC').distinct().withColumn('Ano', F.year('DT_NOTIFIC'))\\\n",
    "    .withColumn('Mes', F.month('DT_NOTIFIC')).withColumn('Semana', F.weekofyear('DT_NOTIFIC'))"
   ],
   "metadata": {
    "collapsed": false
   },
   "id": "183c33dcd119bf79",
   "execution_count": null
  },
  {
   "cell_type": "markdown",
   "source": [
    "## Criando a dPacientes"
   ],
   "metadata": {
    "collapsed": false
   },
   "id": "83e27570a47ce15c"
  },
  {
   "cell_type": "code",
   "outputs": [],
   "source": [
    "df_dim_pacientes = df.select(\n",
    "    'CS_SEXO', 'CS_RACA', 'NU_IDADE_N', 'CS_ESCOL_N', 'CS_ZONA',\n",
    "    'PUERPERA', 'FATOR_RISC', 'CARDIOPATI', 'DIABETES', 'OBESIDADE'\n",
    ")"
   ],
   "metadata": {
    "collapsed": false
   },
   "id": "385d8a8722cda390",
   "execution_count": null
  },
  {
   "cell_type": "markdown",
   "source": [
    "## Criando a dLocalização"
   ],
   "metadata": {
    "collapsed": false
   },
   "id": "ebc42464bac61636"
  },
  {
   "cell_type": "code",
   "outputs": [],
   "source": [
    "df_dim_localizacao = df.select(\n",
    "    'SG_UF_NOT', 'CO_MUN_NOT', 'ID_REGIONA', 'ID_MN_RESI'\n",
    ").distinct()"
   ],
   "metadata": {
    "collapsed": false
   },
   "id": "2342c5a4773dc8af",
   "execution_count": null
  },
  {
   "cell_type": "code",
   "outputs": [],
   "source": [
    "tabelas = {\n",
    "    \"fato_casos\": df_fato_casos,\n",
    "    \"fato_sintomas\": df_fato_sintomas,\n",
    "    \"fato_internacoes\": df_fato_internacoes,\n",
    "    \"fato_testes\": df_fato_testes,\n",
    "    \"dim_tempo\": df_dim_tempo,\n",
    "    \"dim_pacientes\": df_dim_pacientes,\n",
    "    \"dim_localizacao\": df_dim_localizacao\n",
    "}"
   ],
   "metadata": {
    "collapsed": false
   },
   "id": "c06d6a12566b31f9",
   "execution_count": null
  },
  {
   "cell_type": "code",
   "outputs": [],
   "source": [
    "for nome_tabela, df_tabela in tabelas.items():\n",
    "    base_dir = os.path.abspath(os.path.join(os.getcwd(), \"../\")) \n",
    "    caminho = os.path.join(base_dir, f\"data/gold/{nome_tabela}\")\n",
    "    df_tabela.write.mode(\"overwrite\").format(\"parquet\").save(caminho)"
   ],
   "metadata": {
    "collapsed": false
   },
   "id": "57440bce0d541725",
   "execution_count": null
  }
 ],
 "metadata": {
  "kernelspec": {
   "display_name": "Python 3",
   "language": "python",
   "name": "python3"
  },
  "language_info": {
   "codemirror_mode": {
    "name": "ipython",
    "version": 2
   },
   "file_extension": ".py",
   "mimetype": "text/x-python",
   "name": "python",
   "nbconvert_exporter": "python",
   "pygments_lexer": "ipython2",
   "version": "2.7.6"
  }
 },
 "nbformat": 4,
 "nbformat_minor": 5
}
