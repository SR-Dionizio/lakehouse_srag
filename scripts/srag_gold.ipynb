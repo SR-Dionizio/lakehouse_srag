{
 "cells": [
  {
   "cell_type": "code",
   "execution_count": 1,
   "id": "initial_id",
   "metadata": {
    "collapsed": true,
    "execution": {
     "iopub.execute_input": "2025-04-28T22:03:46.786811Z",
     "iopub.status.busy": "2025-04-28T22:03:46.786027Z",
     "iopub.status.idle": "2025-04-28T22:03:47.044101Z",
     "shell.execute_reply": "2025-04-28T22:03:47.043029Z"
    },
    "jupyter": {
     "source_hidden": true
    },
    "papermill": {
     "duration": 0.270392,
     "end_time": "2025-04-28T22:03:47.047197",
     "exception": false,
     "start_time": "2025-04-28T22:03:46.776805",
     "status": "completed"
    },
    "tags": []
   },
   "outputs": [],
   "source": [
    "import os\n",
    "\n",
    "from pyspark.sql import SparkSession\n",
    "import pyspark.sql.functions as F"
   ]
  },
  {
   "cell_type": "markdown",
   "id": "e173fdcc2c3bc3de",
   "metadata": {
    "collapsed": false,
    "papermill": {
     "duration": 0.004156,
     "end_time": "2025-04-28T22:03:47.057445",
     "exception": false,
     "start_time": "2025-04-28T22:03:47.053289",
     "status": "completed"
    },
    "tags": []
   },
   "source": [
    "## Criando o job Spark"
   ]
  },
  {
   "cell_type": "code",
   "execution_count": 2,
   "id": "4d38c96df81e2101",
   "metadata": {
    "execution": {
     "iopub.execute_input": "2025-04-28T22:03:47.070712Z",
     "iopub.status.busy": "2025-04-28T22:03:47.070215Z",
     "iopub.status.idle": "2025-04-28T22:03:52.532860Z",
     "shell.execute_reply": "2025-04-28T22:03:52.531155Z"
    },
    "jupyter": {
     "source_hidden": true
    },
    "papermill": {
     "duration": 5.469354,
     "end_time": "2025-04-28T22:03:52.534803",
     "exception": false,
     "start_time": "2025-04-28T22:03:47.065449",
     "status": "completed"
    },
    "tags": []
   },
   "outputs": [
    {
     "name": "stderr",
     "output_type": "stream",
     "text": [
      "/home/airflow/.local/lib/python3.8/site-packages/pyspark/bin/load-spark-env.sh: line 68: ps: command not found\n"
     ]
    },
    {
     "name": "stderr",
     "output_type": "stream",
     "text": [
      "Setting default log level to \"WARN\".\n",
      "To adjust logging level use sc.setLogLevel(newLevel). For SparkR, use setLogLevel(newLevel).\n"
     ]
    },
    {
     "name": "stderr",
     "output_type": "stream",
     "text": [
      "25/04/28 22:03:49 WARN NativeCodeLoader: Unable to load native-hadoop library for your platform... using builtin-java classes where applicable\n"
     ]
    }
   ],
   "source": [
    "spark = SparkSession.builder \\\n",
    "    .appName(\"SragGold\") \\\n",
    "    .master(\"local[*]\") \\\n",
    "    .getOrCreate()\n",
    "spark.conf.set(\"spark.sql.legacy.timeParserPolicy\", \"LEGACY\")"
   ]
  },
  {
   "cell_type": "code",
   "execution_count": 3,
   "id": "12c6e4ad269168aa",
   "metadata": {
    "execution": {
     "iopub.execute_input": "2025-04-28T22:03:52.551832Z",
     "iopub.status.busy": "2025-04-28T22:03:52.551093Z",
     "iopub.status.idle": "2025-04-28T22:03:52.558705Z",
     "shell.execute_reply": "2025-04-28T22:03:52.557154Z"
    },
    "jupyter": {
     "source_hidden": true
    },
    "papermill": {
     "duration": 0.019849,
     "end_time": "2025-04-28T22:03:52.560972",
     "exception": false,
     "start_time": "2025-04-28T22:03:52.541123",
     "status": "completed"
    },
    "tags": []
   },
   "outputs": [],
   "source": [
    "spark.sparkContext.setLogLevel(\"ERROR\")"
   ]
  },
  {
   "cell_type": "markdown",
   "id": "db83f7ccd6e1de5c",
   "metadata": {
    "collapsed": false,
    "papermill": {
     "duration": 0.007907,
     "end_time": "2025-04-28T22:03:52.575700",
     "exception": false,
     "start_time": "2025-04-28T22:03:52.567793",
     "status": "completed"
    },
    "tags": []
   },
   "source": [
    "## Lendo os arquivos Parquet"
   ]
  },
  {
   "cell_type": "code",
   "execution_count": 4,
   "id": "bc2641964159a2da",
   "metadata": {
    "execution": {
     "iopub.execute_input": "2025-04-28T22:03:52.593571Z",
     "iopub.status.busy": "2025-04-28T22:03:52.592574Z",
     "iopub.status.idle": "2025-04-28T22:03:54.942430Z",
     "shell.execute_reply": "2025-04-28T22:03:54.941465Z"
    },
    "jupyter": {
     "source_hidden": true
    },
    "papermill": {
     "duration": 2.361102,
     "end_time": "2025-04-28T22:03:54.943799",
     "exception": false,
     "start_time": "2025-04-28T22:03:52.582697",
     "status": "completed"
    },
    "tags": []
   },
   "outputs": [
    {
     "name": "stderr",
     "output_type": "stream",
     "text": [
      "\r",
      "[Stage 0:>                                                          (0 + 1) / 1]\r",
      "\r",
      "                                                                                \r"
     ]
    }
   ],
   "source": [
    "base_dir = os.path.abspath(os.path.join(os.getcwd(), \"../\")) \n",
    "data_path = os.path.join(base_dir, \"lakehouse_srag/data/silver/srag.parquet\")\n",
    "df = spark.read.parquet(\n",
    "    data_path\n",
    ")"
   ]
  },
  {
   "cell_type": "markdown",
   "id": "115654faf828e881",
   "metadata": {
    "collapsed": false,
    "papermill": {
     "duration": 0.004271,
     "end_time": "2025-04-28T22:03:54.952323",
     "exception": false,
     "start_time": "2025-04-28T22:03:54.948052",
     "status": "completed"
    },
    "tags": []
   },
   "source": [
    "## Criando a fCasos"
   ]
  },
  {
   "cell_type": "code",
   "execution_count": 5,
   "id": "522aa6801ea104d4",
   "metadata": {
    "collapsed": false,
    "execution": {
     "iopub.execute_input": "2025-04-28T22:03:54.963050Z",
     "iopub.status.busy": "2025-04-28T22:03:54.962764Z",
     "iopub.status.idle": "2025-04-28T22:03:55.133553Z",
     "shell.execute_reply": "2025-04-28T22:03:55.132297Z"
    },
    "jupyter": {
     "source_hidden": true
    },
    "papermill": {
     "duration": 0.177132,
     "end_time": "2025-04-28T22:03:55.135051",
     "exception": false,
     "start_time": "2025-04-28T22:03:54.957919",
     "status": "completed"
    },
    "tags": []
   },
   "outputs": [],
   "source": [
    "df_fato_casos = df.select(\n",
    "    'DT_NOTIFIC', 'SEM_NOT', 'DT_SIN_PRI', 'SEM_PRI', 'EVOLUCAO',\n",
    "    'CLASSI_FIN', 'CRITERIO', 'HOSPITAL', 'UTI', 'SUPORT_VEN',\n",
    "    'PCR_RESUL', 'AN_SARS2', 'VACINA_COV', 'DOSE_1_COV', 'DOSE_2_COV', \n",
    "    'DOSE_REF', 'TRAT_COV', 'TIPO_TRAT'\n",
    ")"
   ]
  },
  {
   "cell_type": "markdown",
   "id": "6d0143e6c922b04c",
   "metadata": {
    "collapsed": false,
    "papermill": {
     "duration": 0.004462,
     "end_time": "2025-04-28T22:03:55.144987",
     "exception": false,
     "start_time": "2025-04-28T22:03:55.140525",
     "status": "completed"
    },
    "tags": []
   },
   "source": [
    "## Criando a fSintomas"
   ]
  },
  {
   "cell_type": "code",
   "execution_count": 6,
   "id": "813adc047caee4d9",
   "metadata": {
    "collapsed": false,
    "execution": {
     "iopub.execute_input": "2025-04-28T22:03:55.155236Z",
     "iopub.status.busy": "2025-04-28T22:03:55.154468Z",
     "iopub.status.idle": "2025-04-28T22:03:55.292369Z",
     "shell.execute_reply": "2025-04-28T22:03:55.291218Z"
    },
    "jupyter": {
     "source_hidden": true
    },
    "papermill": {
     "duration": 0.144896,
     "end_time": "2025-04-28T22:03:55.293992",
     "exception": false,
     "start_time": "2025-04-28T22:03:55.149096",
     "status": "completed"
    },
    "tags": []
   },
   "outputs": [],
   "source": [
    "df_fato_sintomas = df.groupby('DT_NOTIFIC').agg(\n",
    "    F.sum('FEBRE').alias('FEBRE'),\n",
    "    F.sum('TOSSE').alias('TOSSE'),\n",
    "    F.sum('GARGANTA').alias('GARGANTA'),\n",
    "    F.sum('DISPNEIA').alias('DISPNEIA'),\n",
    "    F.sum('SATURACAO').alias('SATURACAO'),\n",
    "    F.sum('DIARREIA').alias('DIARREIA'),\n",
    "    F.sum('VOMITO').alias('VOMITO'),\n",
    "    F.sum('DOR_ABD').alias('DOR_ABD'),\n",
    "    F.sum('FADIGA').alias('FADIGA'),\n",
    "    F.sum('PERD_OLFT').alias('PERD_OLFT'),\n",
    "    F.sum('PERD_PALA').alias('PERD_PALA'),\n",
    "    F.sum('OUTRO_SIN').alias('OUTRO_SIN')\n",
    ")"
   ]
  },
  {
   "cell_type": "markdown",
   "id": "cc6ac63ebec2d47f",
   "metadata": {
    "collapsed": false,
    "papermill": {
     "duration": 0.004261,
     "end_time": "2025-04-28T22:03:55.302632",
     "exception": false,
     "start_time": "2025-04-28T22:03:55.298371",
     "status": "completed"
    },
    "tags": []
   },
   "source": [
    "## Criando a fInternações"
   ]
  },
  {
   "cell_type": "code",
   "execution_count": 7,
   "id": "6cdae8b704b551cd",
   "metadata": {
    "collapsed": false,
    "execution": {
     "iopub.execute_input": "2025-04-28T22:03:55.313323Z",
     "iopub.status.busy": "2025-04-28T22:03:55.313005Z",
     "iopub.status.idle": "2025-04-28T22:03:55.340245Z",
     "shell.execute_reply": "2025-04-28T22:03:55.338817Z"
    },
    "jupyter": {
     "source_hidden": true
    },
    "papermill": {
     "duration": 0.033682,
     "end_time": "2025-04-28T22:03:55.341697",
     "exception": false,
     "start_time": "2025-04-28T22:03:55.308015",
     "status": "completed"
    },
    "tags": []
   },
   "outputs": [],
   "source": [
    "df_fato_internacoes = df.select(\n",
    "    'DT_NOTIFIC', 'HOSPITAL', 'DT_INTERNA', 'UTI', 'DT_ENTUTI',\n",
    "    'DT_SAIDUTI', 'SUPORT_VEN', 'RAIOX_RES', 'TOMO_RES'\n",
    ")"
   ]
  },
  {
   "cell_type": "markdown",
   "id": "ae56587bd50c9489",
   "metadata": {
    "collapsed": false,
    "papermill": {
     "duration": 0.00488,
     "end_time": "2025-04-28T22:03:55.350725",
     "exception": false,
     "start_time": "2025-04-28T22:03:55.345845",
     "status": "completed"
    },
    "tags": []
   },
   "source": [
    "## Criando a fTestes"
   ]
  },
  {
   "cell_type": "code",
   "execution_count": 8,
   "id": "ab938e4d348f5b70",
   "metadata": {
    "collapsed": false,
    "execution": {
     "iopub.execute_input": "2025-04-28T22:03:55.360522Z",
     "iopub.status.busy": "2025-04-28T22:03:55.360232Z",
     "iopub.status.idle": "2025-04-28T22:03:55.389153Z",
     "shell.execute_reply": "2025-04-28T22:03:55.387506Z"
    },
    "jupyter": {
     "source_hidden": true
    },
    "papermill": {
     "duration": 0.036878,
     "end_time": "2025-04-28T22:03:55.391707",
     "exception": false,
     "start_time": "2025-04-28T22:03:55.354829",
     "status": "completed"
    },
    "tags": []
   },
   "outputs": [],
   "source": [
    "df_fato_testes = df.select(\n",
    "    'DT_NOTIFIC', 'PCR_RESUL', 'DT_PCR', 'POS_PCRFLU', 'PCR_SARS2',\n",
    "    'POS_PCROUT', 'AN_SARS2', 'RES_IGG', 'RES_IGM', 'RES_IGA'\n",
    ")"
   ]
  },
  {
   "cell_type": "markdown",
   "id": "7ad414c70cb660",
   "metadata": {
    "collapsed": false,
    "papermill": {
     "duration": 0.004012,
     "end_time": "2025-04-28T22:03:55.399812",
     "exception": false,
     "start_time": "2025-04-28T22:03:55.395800",
     "status": "completed"
    },
    "tags": []
   },
   "source": [
    "## Criando a dTempo"
   ]
  },
  {
   "cell_type": "code",
   "execution_count": 9,
   "id": "183c33dcd119bf79",
   "metadata": {
    "collapsed": false,
    "execution": {
     "iopub.execute_input": "2025-04-28T22:03:55.409661Z",
     "iopub.status.busy": "2025-04-28T22:03:55.409364Z",
     "iopub.status.idle": "2025-04-28T22:03:55.464144Z",
     "shell.execute_reply": "2025-04-28T22:03:55.463172Z"
    },
    "jupyter": {
     "source_hidden": true
    },
    "papermill": {
     "duration": 0.061674,
     "end_time": "2025-04-28T22:03:55.465449",
     "exception": false,
     "start_time": "2025-04-28T22:03:55.403775",
     "status": "completed"
    },
    "tags": []
   },
   "outputs": [],
   "source": [
    "df_dim_tempo = df.select('DT_NOTIFIC').distinct().withColumn('Ano', F.year('DT_NOTIFIC'))\\\n",
    "    .withColumn('Mes', F.month('DT_NOTIFIC')).withColumn('Semana', F.weekofyear('DT_NOTIFIC'))"
   ]
  },
  {
   "cell_type": "markdown",
   "id": "83e27570a47ce15c",
   "metadata": {
    "collapsed": false,
    "papermill": {
     "duration": 0.004248,
     "end_time": "2025-04-28T22:03:55.473839",
     "exception": false,
     "start_time": "2025-04-28T22:03:55.469591",
     "status": "completed"
    },
    "tags": []
   },
   "source": [
    "## Criando a dPacientes"
   ]
  },
  {
   "cell_type": "code",
   "execution_count": 10,
   "id": "385d8a8722cda390",
   "metadata": {
    "collapsed": false,
    "execution": {
     "iopub.execute_input": "2025-04-28T22:03:55.483017Z",
     "iopub.status.busy": "2025-04-28T22:03:55.482731Z",
     "iopub.status.idle": "2025-04-28T22:03:55.508677Z",
     "shell.execute_reply": "2025-04-28T22:03:55.507550Z"
    },
    "jupyter": {
     "source_hidden": true
    },
    "papermill": {
     "duration": 0.032215,
     "end_time": "2025-04-28T22:03:55.510047",
     "exception": false,
     "start_time": "2025-04-28T22:03:55.477832",
     "status": "completed"
    },
    "tags": []
   },
   "outputs": [],
   "source": [
    "df_dim_pacientes = df.select(\n",
    "    'CS_SEXO', 'CS_RACA', 'NU_IDADE_N', 'CS_ESCOL_N', 'CS_ZONA',\n",
    "    'PUERPERA', 'FATOR_RISC', 'CARDIOPATI', 'DIABETES', 'OBESIDADE'\n",
    ")"
   ]
  },
  {
   "cell_type": "markdown",
   "id": "ebc42464bac61636",
   "metadata": {
    "collapsed": false,
    "papermill": {
     "duration": 0.003934,
     "end_time": "2025-04-28T22:03:55.518020",
     "exception": false,
     "start_time": "2025-04-28T22:03:55.514086",
     "status": "completed"
    },
    "tags": []
   },
   "source": [
    "## Criando a dLocalização"
   ]
  },
  {
   "cell_type": "code",
   "execution_count": 11,
   "id": "2342c5a4773dc8af",
   "metadata": {
    "collapsed": false,
    "execution": {
     "iopub.execute_input": "2025-04-28T22:03:55.528040Z",
     "iopub.status.busy": "2025-04-28T22:03:55.527748Z",
     "iopub.status.idle": "2025-04-28T22:03:55.550676Z",
     "shell.execute_reply": "2025-04-28T22:03:55.549600Z"
    },
    "jupyter": {
     "source_hidden": true
    },
    "papermill": {
     "duration": 0.029921,
     "end_time": "2025-04-28T22:03:55.551988",
     "exception": false,
     "start_time": "2025-04-28T22:03:55.522067",
     "status": "completed"
    },
    "tags": []
   },
   "outputs": [],
   "source": [
    "df_dim_localizacao = df.select(\n",
    "    'SG_UF_NOT', 'CO_MUN_NOT', 'ID_REGIONA', 'ID_MN_RESI'\n",
    ").distinct()"
   ]
  },
  {
   "cell_type": "code",
   "execution_count": 12,
   "id": "c06d6a12566b31f9",
   "metadata": {
    "collapsed": false,
    "execution": {
     "iopub.execute_input": "2025-04-28T22:03:55.561852Z",
     "iopub.status.busy": "2025-04-28T22:03:55.561563Z",
     "iopub.status.idle": "2025-04-28T22:03:55.566020Z",
     "shell.execute_reply": "2025-04-28T22:03:55.565112Z"
    },
    "jupyter": {
     "source_hidden": true
    },
    "papermill": {
     "duration": 0.010856,
     "end_time": "2025-04-28T22:03:55.567156",
     "exception": false,
     "start_time": "2025-04-28T22:03:55.556300",
     "status": "completed"
    },
    "tags": []
   },
   "outputs": [],
   "source": [
    "tabelas = {\n",
    "    \"fato_casos\": df_fato_casos,\n",
    "    \"fato_sintomas\": df_fato_sintomas,\n",
    "    \"fato_internacoes\": df_fato_internacoes,\n",
    "    \"fato_testes\": df_fato_testes,\n",
    "    \"dim_tempo\": df_dim_tempo,\n",
    "    \"dim_pacientes\": df_dim_pacientes,\n",
    "    \"dim_localizacao\": df_dim_localizacao\n",
    "}"
   ]
  },
  {
   "cell_type": "code",
   "execution_count": 13,
   "id": "57440bce0d541725",
   "metadata": {
    "collapsed": false,
    "execution": {
     "iopub.execute_input": "2025-04-28T22:03:55.577163Z",
     "iopub.status.busy": "2025-04-28T22:03:55.576876Z",
     "iopub.status.idle": "2025-04-28T22:04:10.439350Z",
     "shell.execute_reply": "2025-04-28T22:04:10.437931Z"
    },
    "jupyter": {
     "source_hidden": true
    },
    "papermill": {
     "duration": 14.869697,
     "end_time": "2025-04-28T22:04:10.440905",
     "exception": false,
     "start_time": "2025-04-28T22:03:55.571208",
     "status": "completed"
    },
    "tags": []
   },
   "outputs": [
    {
     "name": "stderr",
     "output_type": "stream",
     "text": [
      "\r",
      "[Stage 1:>                                                         (0 + 8) / 11]\r"
     ]
    },
    {
     "name": "stderr",
     "output_type": "stream",
     "text": [
      "\r",
      "[Stage 1:==========================================>               (8 + 3) / 11]\r"
     ]
    },
    {
     "name": "stderr",
     "output_type": "stream",
     "text": [
      "\r",
      "[Stage 1:===================================================>     (10 + 1) / 11]\r",
      "\r",
      "                                                                                \r"
     ]
    },
    {
     "name": "stderr",
     "output_type": "stream",
     "text": [
      "\r",
      "[Stage 2:>                                                         (0 + 8) / 11]\r"
     ]
    },
    {
     "name": "stderr",
     "output_type": "stream",
     "text": [
      "\r",
      "[Stage 2:==========================================>               (8 + 3) / 11]\r"
     ]
    },
    {
     "name": "stderr",
     "output_type": "stream",
     "text": [
      "\r",
      "                                                                                \r"
     ]
    },
    {
     "name": "stderr",
     "output_type": "stream",
     "text": [
      "\r",
      "[Stage 5:>                                                         (0 + 8) / 11]\r"
     ]
    },
    {
     "name": "stderr",
     "output_type": "stream",
     "text": [
      "\r",
      "[Stage 5:====================================>                     (7 + 4) / 11]\r",
      "\r",
      "[Stage 5:==========================================>               (8 + 3) / 11]\r"
     ]
    },
    {
     "name": "stderr",
     "output_type": "stream",
     "text": [
      "\r",
      "[Stage 5:===================================================>     (10 + 1) / 11]\r",
      "\r",
      "                                                                                \r"
     ]
    },
    {
     "name": "stderr",
     "output_type": "stream",
     "text": [
      "\r",
      "[Stage 6:=====>                                                    (1 + 8) / 11]\r",
      "\r",
      "[Stage 6:==========================================>               (8 + 3) / 11]\r"
     ]
    },
    {
     "name": "stderr",
     "output_type": "stream",
     "text": [
      "\r",
      "                                                                                \r"
     ]
    },
    {
     "name": "stderr",
     "output_type": "stream",
     "text": [
      "\r",
      "[Stage 10:>                                                        (0 + 8) / 11]\r",
      "\r",
      "[Stage 10:=========================>                               (5 + 6) / 11]\r"
     ]
    },
    {
     "name": "stderr",
     "output_type": "stream",
     "text": [
      "\r",
      "[Stage 10:=========================================>               (8 + 3) / 11]\r"
     ]
    },
    {
     "name": "stderr",
     "output_type": "stream",
     "text": [
      "\r",
      "                                                                                \r"
     ]
    },
    {
     "name": "stderr",
     "output_type": "stream",
     "text": [
      "\r",
      "[Stage 11:=====>                                                   (1 + 8) / 11]\r",
      "\r",
      "[Stage 11:=========================================>               (8 + 3) / 11]\r"
     ]
    },
    {
     "name": "stderr",
     "output_type": "stream",
     "text": [
      "\r",
      "                                                                                \r"
     ]
    }
   ],
   "source": [
    "for nome_tabela, df_tabela in tabelas.items():\n",
    "    base_dir = os.path.abspath(os.path.join(os.getcwd(), \"../\")) \n",
    "    caminho = os.path.join(base_dir, f\"lakehouse_srag/data/gold/{nome_tabela}\")\n",
    "    df_tabela.write.mode(\"overwrite\").format(\"parquet\").save(caminho)"
   ]
  }
 ],
 "metadata": {
  "kernelspec": {
   "display_name": "Python 3",
   "language": "python",
   "name": "python3"
  },
  "language_info": {
   "codemirror_mode": {
    "name": "ipython",
    "version": 3
   },
   "file_extension": ".py",
   "mimetype": "text/x-python",
   "name": "python",
   "nbconvert_exporter": "python",
   "pygments_lexer": "ipython3",
   "version": "3.8.18"
  },
  "papermill": {
   "default_parameters": {},
   "duration": 28.226349,
   "end_time": "2025-04-28T22:04:13.068134",
   "environment_variables": {},
   "exception": null,
   "input_path": "/opt/lakehouse_srag/scripts/srag_gold.ipynb",
   "output_path": "/opt/lakehouse_srag/scripts/srag_gold.ipynb",
   "parameters": {
    "execution_date": "2025-03-17"
   },
   "start_time": "2025-04-28T22:03:44.841785",
   "version": "2.6.0"
  }
 },
 "nbformat": 4,
 "nbformat_minor": 5
}