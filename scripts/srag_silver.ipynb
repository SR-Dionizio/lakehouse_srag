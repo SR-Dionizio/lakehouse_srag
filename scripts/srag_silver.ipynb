{
 "cells": [
  {
   "cell_type": "code",
   "execution_count": 1,
   "id": "initial_id",
   "metadata": {
    "collapsed": true,
    "execution": {
     "iopub.execute_input": "2025-04-28T22:01:11.476073Z",
     "iopub.status.busy": "2025-04-28T22:01:11.475688Z",
     "iopub.status.idle": "2025-04-28T22:01:11.630108Z",
     "shell.execute_reply": "2025-04-28T22:01:11.628887Z"
    },
    "jupyter": {
     "source_hidden": true
    },
    "papermill": {
     "duration": 0.164107,
     "end_time": "2025-04-28T22:01:11.632250",
     "exception": false,
     "start_time": "2025-04-28T22:01:11.468143",
     "status": "completed"
    },
    "tags": []
   },
   "outputs": [],
   "source": [
    "import os\n",
    "\n",
    "from pyspark.sql import SparkSession\n",
    "import pyspark.sql.functions as F"
   ]
  },
  {
   "cell_type": "markdown",
   "id": "51c0ea5b577049f4",
   "metadata": {
    "collapsed": false,
    "papermill": {
     "duration": 0.003116,
     "end_time": "2025-04-28T22:01:11.641162",
     "exception": false,
     "start_time": "2025-04-28T22:01:11.638046",
     "status": "completed"
    },
    "tags": []
   },
   "source": [
    "## Criando job spark"
   ]
  },
  {
   "cell_type": "code",
   "execution_count": 2,
   "id": "17af2a9f712bdb0f",
   "metadata": {
    "collapsed": false,
    "execution": {
     "iopub.execute_input": "2025-04-28T22:01:11.649898Z",
     "iopub.status.busy": "2025-04-28T22:01:11.648853Z",
     "iopub.status.idle": "2025-04-28T22:01:15.798797Z",
     "shell.execute_reply": "2025-04-28T22:01:15.775776Z"
    },
    "jupyter": {
     "source_hidden": true
    },
    "papermill": {
     "duration": 4.157191,
     "end_time": "2025-04-28T22:01:15.801546",
     "exception": false,
     "start_time": "2025-04-28T22:01:11.644355",
     "status": "completed"
    },
    "tags": []
   },
   "outputs": [
    {
     "name": "stderr",
     "output_type": "stream",
     "text": [
      "/home/airflow/.local/lib/python3.8/site-packages/pyspark/bin/load-spark-env.sh: line 68: ps: command not found\n"
     ]
    },
    {
     "name": "stderr",
     "output_type": "stream",
     "text": [
      "Setting default log level to \"WARN\".\n",
      "To adjust logging level use sc.setLogLevel(newLevel). For SparkR, use setLogLevel(newLevel).\n"
     ]
    },
    {
     "name": "stderr",
     "output_type": "stream",
     "text": [
      "25/04/28 22:01:13 WARN NativeCodeLoader: Unable to load native-hadoop library for your platform... using builtin-java classes where applicable\n"
     ]
    }
   ],
   "source": [
    "spark = SparkSession.builder \\\n",
    "    .appName(\"SragSilver\") \\\n",
    "    .master(\"local[*]\") \\\n",
    "    .getOrCreate()\n",
    "spark.conf.set(\"spark.sql.legacy.timeParserPolicy\", \"LEGACY\")"
   ]
  },
  {
   "cell_type": "code",
   "execution_count": 3,
   "id": "8263ee5541d06932",
   "metadata": {
    "collapsed": false,
    "execution": {
     "iopub.execute_input": "2025-04-28T22:01:15.811606Z",
     "iopub.status.busy": "2025-04-28T22:01:15.810683Z",
     "iopub.status.idle": "2025-04-28T22:01:15.819194Z",
     "shell.execute_reply": "2025-04-28T22:01:15.817822Z"
    },
    "jupyter": {
     "source_hidden": true
    },
    "papermill": {
     "duration": 0.015611,
     "end_time": "2025-04-28T22:01:15.821266",
     "exception": false,
     "start_time": "2025-04-28T22:01:15.805655",
     "status": "completed"
    },
    "tags": []
   },
   "outputs": [],
   "source": [
    "spark.sparkContext.setLogLevel(\"ERROR\")"
   ]
  },
  {
   "cell_type": "markdown",
   "id": "7ef3961a1efc7b53",
   "metadata": {
    "collapsed": false,
    "papermill": {
     "duration": 0.003465,
     "end_time": "2025-04-28T22:01:15.828040",
     "exception": false,
     "start_time": "2025-04-28T22:01:15.824575",
     "status": "completed"
    },
    "tags": []
   },
   "source": [
    "## Lendo arquivo csv"
   ]
  },
  {
   "cell_type": "code",
   "execution_count": 4,
   "id": "919e8ef0567ad2cf",
   "metadata": {
    "collapsed": false,
    "execution": {
     "iopub.execute_input": "2025-04-28T22:01:15.837351Z",
     "iopub.status.busy": "2025-04-28T22:01:15.836617Z",
     "iopub.status.idle": "2025-04-28T22:02:13.791663Z",
     "shell.execute_reply": "2025-04-28T22:02:13.790596Z"
    },
    "jupyter": {
     "source_hidden": true
    },
    "papermill": {
     "duration": 57.961721,
     "end_time": "2025-04-28T22:02:13.793237",
     "exception": false,
     "start_time": "2025-04-28T22:01:15.831516",
     "status": "completed"
    },
    "tags": []
   },
   "outputs": [
    {
     "name": "stderr",
     "output_type": "stream",
     "text": [
      "\r",
      "[Stage 1:>                                                         (0 + 8) / 15]\r"
     ]
    },
    {
     "name": "stderr",
     "output_type": "stream",
     "text": [
      "\r",
      "[Stage 1:>                                                         (0 + 9) / 15]\r",
      "\r",
      "[Stage 1:===>                                                      (1 + 8) / 15]\r"
     ]
    },
    {
     "name": "stderr",
     "output_type": "stream",
     "text": [
      "\r",
      "[Stage 1:=======>                                                  (2 + 8) / 15]\r"
     ]
    },
    {
     "name": "stderr",
     "output_type": "stream",
     "text": [
      "\r",
      "[Stage 1:===========>                                              (3 + 8) / 15]\r"
     ]
    },
    {
     "name": "stderr",
     "output_type": "stream",
     "text": [
      "\r",
      "[Stage 1:===============>                                          (4 + 8) / 15]\r"
     ]
    },
    {
     "name": "stderr",
     "output_type": "stream",
     "text": [
      "\r",
      "[Stage 1:=======================>                                  (6 + 8) / 15]\r"
     ]
    },
    {
     "name": "stderr",
     "output_type": "stream",
     "text": [
      "\r",
      "[Stage 1:===========================>                              (7 + 8) / 15]\r",
      "\r",
      "[Stage 1:==============================>                           (8 + 7) / 15]\r"
     ]
    },
    {
     "name": "stderr",
     "output_type": "stream",
     "text": [
      "\r",
      "[Stage 1:==================================>                       (9 + 6) / 15]\r",
      "\r",
      "[Stage 1:======================================>                  (10 + 5) / 15]\r"
     ]
    },
    {
     "name": "stderr",
     "output_type": "stream",
     "text": [
      "\r",
      "[Stage 1:=========================================>               (11 + 4) / 15]\r"
     ]
    },
    {
     "name": "stderr",
     "output_type": "stream",
     "text": [
      "\r",
      "[Stage 1:=============================================>           (12 + 3) / 15]\r",
      "\r",
      "[Stage 1:=================================================>       (13 + 2) / 15]\r"
     ]
    },
    {
     "name": "stderr",
     "output_type": "stream",
     "text": [
      "\r",
      "                                                                                \r"
     ]
    }
   ],
   "source": [
    "base_dir = os.path.abspath(os.path.join(os.getcwd(), \"../\")) \n",
    "data_path = os.path.join(base_dir, \"lakehouse_srag/data/bronze/\")\n",
    "df = spark.read.csv(\n",
    "    data_path,\n",
    "    header=True,\n",
    "    inferSchema=True,\n",
    "    sep=\";\"\n",
    ")"
   ]
  },
  {
   "cell_type": "markdown",
   "id": "9d34ccbd362d250a",
   "metadata": {
    "collapsed": false,
    "papermill": {
     "duration": 0.003181,
     "end_time": "2025-04-28T22:02:13.799802",
     "exception": false,
     "start_time": "2025-04-28T22:02:13.796621",
     "status": "completed"
    },
    "tags": []
   },
   "source": [
    "## Tratando colunas do tipo data"
   ]
  },
  {
   "cell_type": "code",
   "execution_count": 5,
   "id": "d731a30cddf42ada",
   "metadata": {
    "collapsed": false,
    "execution": {
     "iopub.execute_input": "2025-04-28T22:02:13.808769Z",
     "iopub.status.busy": "2025-04-28T22:02:13.807745Z",
     "iopub.status.idle": "2025-04-28T22:02:14.561647Z",
     "shell.execute_reply": "2025-04-28T22:02:14.560594Z"
    },
    "jupyter": {
     "source_hidden": true
    },
    "papermill": {
     "duration": 0.760193,
     "end_time": "2025-04-28T22:02:14.563354",
     "exception": false,
     "start_time": "2025-04-28T22:02:13.803161",
     "status": "completed"
    },
    "tags": []
   },
   "outputs": [],
   "source": [
    "date_columns = [\n",
    "    'DT_NOTIFIC', 'DT_SIN_PRI', 'DT_NASC', 'DT_UT_DOSE',\n",
    "    'DT_VAC_MAE', 'DT_DOSEUNI', 'DT_1_DOSE', 'DT_2_DOSE', \n",
    "    'DT_ANTIVIR', 'DT_INTERNA', 'DT_ENTUTI', 'DT_SAIDUTI',\n",
    "    'DT_COLETA', 'DT_PCR', 'DT_RES', 'DT_EVOLUCA',\n",
    "    'DT_ENCERRA', 'DT_DIGITA'\n",
    "]\n",
    "\n",
    "for col in date_columns:\n",
    "    df = df.withColumn(col, F.to_date(F.col(col), 'dd/MM/yyyy'))\n",
    "df = df.drop('DT_RES') # Essa coluna só serve pra dar dor de cabeça"
   ]
  },
  {
   "cell_type": "markdown",
   "id": "339113b77c271fbc",
   "metadata": {
    "collapsed": false,
    "papermill": {
     "duration": 0.004722,
     "end_time": "2025-04-28T22:02:14.572869",
     "exception": false,
     "start_time": "2025-04-28T22:02:14.568147",
     "status": "completed"
    },
    "tags": []
   },
   "source": [
    "## Tratando colunas do tipo inteiro"
   ]
  },
  {
   "cell_type": "code",
   "execution_count": 6,
   "id": "14f441b44e38dadc",
   "metadata": {
    "execution": {
     "iopub.execute_input": "2025-04-28T22:02:14.585227Z",
     "iopub.status.busy": "2025-04-28T22:02:14.584257Z",
     "iopub.status.idle": "2025-04-28T22:02:21.177060Z",
     "shell.execute_reply": "2025-04-28T22:02:21.176103Z"
    },
    "jupyter": {
     "source_hidden": true
    },
    "papermill": {
     "duration": 6.600544,
     "end_time": "2025-04-28T22:02:21.178552",
     "exception": false,
     "start_time": "2025-04-28T22:02:14.578008",
     "status": "completed"
    },
    "tags": []
   },
   "outputs": [],
   "source": [
    "int_columns = [\n",
    "    'SEM_NOT', 'SEM_PRI', 'NU_IDADE_N', 'TP_IDADE', 'CS_GESTANT',\n",
    "    'CS_RACA', 'CS_ESCOL_N', 'CO_PAIS', 'CS_ZONA', 'SURTO_SG',\n",
    "    'NOSOCOMIAL', 'AVE_SUINO', 'FEBRE', 'TOSSE', 'GARGANTA', 'DISPNEIA',\n",
    "    'DESC_RESP', 'SATURACAO', 'DIARREIA', 'VOMITO', 'OUTRO_SIN',\n",
    "    'PUERPERA', 'FATOR_RISC', 'CARDIOPATI', 'HEMATOLOGI', 'SIND_DOWN', \n",
    "    'HEPATICA', 'ASMA', 'DIABETES', 'NEUROLOGIC', 'PNEUMOPATI', \n",
    "    'IMUNODEPRE', 'RENAL', 'OBESIDADE', 'OBES_IMC', 'OUT_MORBI',\n",
    "    'VACINA', 'MAE_VAC', 'ANTIVIRAL', 'TP_ANTIVIR', 'HOSPITAL',\n",
    "    'UTI', 'SUPORT_VEN', 'RAIOX_RES', 'AMOSTRA', 'TP_AMOSTRA', \n",
    "    'PCR_RESUL', 'PCR_RESUL', 'POS_PCRFLU', 'PCR_FLUASU',\n",
    "    'FLUASU_OUT', 'PCR_FLUBLI', 'FLUBLI_OUT', 'POS_PCROUT','PCR_VSR',\n",
    "    'PCR_PARA1', 'PCR_PARA2', 'PCR_PARA3', 'PCR_PARA4', 'PCR_ADENO', \n",
    "    'PCR_BOCA','PCR_RINO', 'PCR_OUTRO', 'PCR_METAP', 'CLASSI_FIN',\n",
    "    'CLASSI_OUT', 'CRITERIO', 'EVOLUCAO', 'HISTO_VGM', 'PAIS_VGM', \n",
    "    'CO_PS_VGM', 'LO_PS_VGM', 'DT_VGM', 'DT_RT_VGM', 'PCR_SARS2', 'PAC_COCBO',\n",
    "    'PAC_DSCBO', 'OUT_ANIM', 'DOR_ABD', 'FADIGA', 'PERD_OLFT', 'PERD_PALA',\n",
    "    'TOMO_RES', 'TP_TES_AN', 'POS_AN_FLU', 'TP_FLU_AN', 'POS_AN_OUT',\n",
    "    'AN_SARS2', 'AN_VSR', 'AN_PARA1', 'AN_PARA2', 'AN_PARA3', 'AN_ADENO',\n",
    "    'AN_OUTRO', 'DS_AN_OUT', 'TP_AM_SOR', 'SOR_OUT', 'RES_IGG', 'RES_IGM',\n",
    "    'RES_IGA', 'ESTRANG', 'VACINA_COV', 'TRAT_COV', 'TIPO_TRAT',\n",
    "    'OUT_TRAT', 'CO_DETEC', 'VG_OMS', 'VG_OMSOUT', 'VG_LIN', 'VG_MET',\n",
    "    'VG_METOUT', 'VG_DTRES', 'VG_ENC', 'VG_REINF', 'REINF', 'FAB_ADIC',\n",
    "    'LOT_RE_BI', 'FAB_RE_BI', 'DOSE_ADIC', 'DOS_RE_BI', 'LOTE_ADIC', 'TABAG'\n",
    "]\n",
    "\n",
    "for int_col in int_columns:\n",
    "    df = df.withColumn(int_col, F.col(int_col).cast('int'))"
   ]
  },
  {
   "cell_type": "markdown",
   "id": "2283ab099d4cdfba",
   "metadata": {
    "collapsed": false,
    "papermill": {
     "duration": 0.003131,
     "end_time": "2025-04-28T22:02:21.185171",
     "exception": false,
     "start_time": "2025-04-28T22:02:21.182040",
     "status": "completed"
    },
    "tags": []
   },
   "source": [
    "## Salvando em Parquet"
   ]
  },
  {
   "cell_type": "code",
   "execution_count": 7,
   "id": "50c409f1ee5e238a",
   "metadata": {
    "execution": {
     "iopub.execute_input": "2025-04-28T22:02:21.192437Z",
     "iopub.status.busy": "2025-04-28T22:02:21.192116Z",
     "iopub.status.idle": "2025-04-28T22:03:39.504268Z",
     "shell.execute_reply": "2025-04-28T22:03:39.500269Z"
    },
    "jupyter": {
     "source_hidden": true
    },
    "papermill": {
     "duration": 78.319339,
     "end_time": "2025-04-28T22:03:39.507542",
     "exception": false,
     "start_time": "2025-04-28T22:02:21.188203",
     "status": "completed"
    },
    "tags": []
   },
   "outputs": [
    {
     "name": "stderr",
     "output_type": "stream",
     "text": [
      "\r",
      "[Stage 2:>                                                         (0 + 8) / 15]\r"
     ]
    },
    {
     "name": "stderr",
     "output_type": "stream",
     "text": [
      "\r",
      "[Stage 2:===>                                                      (1 + 8) / 15]\r"
     ]
    },
    {
     "name": "stderr",
     "output_type": "stream",
     "text": [
      "\r",
      "[Stage 2:=======>                                                  (2 + 8) / 15]\r"
     ]
    },
    {
     "name": "stderr",
     "output_type": "stream",
     "text": [
      "\r",
      "[Stage 2:===========>                                              (3 + 8) / 15]\r",
      "\r",
      "[Stage 2:===================>                                      (5 + 8) / 15]\r"
     ]
    },
    {
     "name": "stderr",
     "output_type": "stream",
     "text": [
      "\r",
      "[Stage 2:=======================>                                  (6 + 8) / 15]\r"
     ]
    },
    {
     "name": "stderr",
     "output_type": "stream",
     "text": [
      "\r",
      "[Stage 2:===========================>                              (7 + 8) / 15]\r"
     ]
    },
    {
     "name": "stderr",
     "output_type": "stream",
     "text": [
      "\r",
      "[Stage 2:==============================>                           (8 + 7) / 15]\r"
     ]
    },
    {
     "name": "stderr",
     "output_type": "stream",
     "text": [
      "\r",
      "[Stage 2:==================================>                       (9 + 6) / 15]\r"
     ]
    },
    {
     "name": "stderr",
     "output_type": "stream",
     "text": [
      "\r",
      "[Stage 2:======================================>                  (10 + 5) / 15]\r"
     ]
    },
    {
     "name": "stderr",
     "output_type": "stream",
     "text": [
      "\r",
      "[Stage 2:=========================================>               (11 + 4) / 15]\r"
     ]
    },
    {
     "name": "stderr",
     "output_type": "stream",
     "text": [
      "\r",
      "[Stage 2:=============================================>           (12 + 3) / 15]\r"
     ]
    },
    {
     "name": "stderr",
     "output_type": "stream",
     "text": [
      "\r",
      "[Stage 2:=================================================>       (13 + 2) / 15]\r"
     ]
    },
    {
     "name": "stderr",
     "output_type": "stream",
     "text": [
      "\r",
      "[Stage 2:=====================================================>   (14 + 1) / 15]\r",
      "\r",
      "                                                                                \r"
     ]
    }
   ],
   "source": [
    "base_dir = os.path.abspath(os.path.join(os.getcwd(), \"../\")) \n",
    "data_path = os.path.join(base_dir, \"lakehouse_srag/data/silver/srag.parquet\")\n",
    "df.write \\\n",
    "  .format('parquet') \\\n",
    "  .mode(\"overwrite\") \\\n",
    "  .save(data_path)\n"
   ]
  }
 ],
 "metadata": {
  "kernelspec": {
   "display_name": "Python 3",
   "language": "python",
   "name": "python3"
  },
  "language_info": {
   "codemirror_mode": {
    "name": "ipython",
    "version": 3
   },
   "file_extension": ".py",
   "mimetype": "text/x-python",
   "name": "python",
   "nbconvert_exporter": "python",
   "pygments_lexer": "ipython3",
   "version": "3.8.18"
  },
  "papermill": {
   "default_parameters": {},
   "duration": 152.450017,
   "end_time": "2025-04-28T22:03:42.135572",
   "environment_variables": {},
   "exception": null,
   "input_path": "/opt/lakehouse_srag/scripts/srag_silver.ipynb",
   "output_path": "/opt/lakehouse_srag/scripts/srag_silver.ipynb",
   "parameters": {
    "execution_date": "2025-03-17"
   },
   "start_time": "2025-04-28T22:01:09.685555",
   "version": "2.6.0"
  }
 },
 "nbformat": 4,
 "nbformat_minor": 5
}