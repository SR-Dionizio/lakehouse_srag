{
 "cells": [
  {
   "cell_type": "code",
   "execution_count": null,
   "id": "initial_id",
   "metadata": {
    "collapsed": true,
    "execution": {
     "iopub.execute_input": "2025-03-18T22:42:21.820437Z",
     "iopub.status.busy": "2025-03-18T22:42:21.820130Z",
     "iopub.status.idle": "2025-03-18T22:42:21.922371Z",
     "shell.execute_reply": "2025-03-18T22:42:21.921752Z"
    },
    "jupyter": {
     "source_hidden": true
    },
    "papermill": {
     "duration": 0.106542,
     "end_time": "2025-03-18T22:42:21.923393",
     "exception": false,
     "start_time": "2025-03-18T22:42:21.816851",
     "status": "completed"
    },
    "tags": []
   },
   "outputs": [],
   "source": [
    "import os\n",
    "\n",
    "from pyspark.sql import SparkSession\n",
    "import pyspark.sql.functions as F"
   ]
  },
  {
   "cell_type": "markdown",
   "id": "51c0ea5b577049f4",
   "metadata": {
    "collapsed": false,
    "papermill": {
     "duration": 0.002446,
     "end_time": "2025-03-18T22:42:21.927354",
     "exception": false,
     "start_time": "2025-03-18T22:42:21.924908",
     "status": "completed"
    },
    "tags": []
   },
   "source": [
    "## Criando job spark"
   ]
  },
  {
   "cell_type": "code",
   "execution_count": null,
   "id": "17af2a9f712bdb0f",
   "metadata": {
    "collapsed": false,
    "execution": {
     "iopub.execute_input": "2025-03-18T22:42:21.931420Z",
     "iopub.status.busy": "2025-03-18T22:42:21.931179Z",
     "iopub.status.idle": "2025-03-18T22:42:25.771927Z",
     "shell.execute_reply": "2025-03-18T22:42:25.770995Z"
    },
    "jupyter": {
     "source_hidden": true
    },
    "papermill": {
     "duration": 3.844454,
     "end_time": "2025-03-18T22:42:25.773241",
     "exception": false,
     "start_time": "2025-03-18T22:42:21.928787",
     "status": "completed"
    },
    "tags": []
   },
   "outputs": [],
   "source": [
    "spark = SparkSession.builder \\\n",
    "    .appName(\"SragSilver\") \\\n",
    "    .master(\"local[*]\") \\\n",
    "    .getOrCreate()\n",
    "spark.conf.set(\"spark.sql.legacy.timeParserPolicy\", \"LEGACY\")"
   ]
  },
  {
   "cell_type": "code",
   "execution_count": null,
   "id": "8263ee5541d06932",
   "metadata": {
    "collapsed": false,
    "execution": {
     "iopub.execute_input": "2025-03-18T22:42:25.777578Z",
     "iopub.status.busy": "2025-03-18T22:42:25.777367Z",
     "iopub.status.idle": "2025-03-18T22:42:25.781729Z",
     "shell.execute_reply": "2025-03-18T22:42:25.781033Z"
    },
    "jupyter": {
     "source_hidden": true
    },
    "papermill": {
     "duration": 0.007736,
     "end_time": "2025-03-18T22:42:25.782722",
     "exception": false,
     "start_time": "2025-03-18T22:42:25.774986",
     "status": "completed"
    },
    "tags": []
   },
   "outputs": [],
   "source": [
    "spark.sparkContext.setLogLevel(\"ERROR\")"
   ]
  },
  {
   "cell_type": "markdown",
   "id": "7ef3961a1efc7b53",
   "metadata": {
    "collapsed": false,
    "papermill": {
     "duration": 0.001518,
     "end_time": "2025-03-18T22:42:25.786266",
     "exception": false,
     "start_time": "2025-03-18T22:42:25.784748",
     "status": "completed"
    },
    "tags": []
   },
   "source": [
    "## Lendo arquivo csv"
   ]
  },
  {
   "cell_type": "code",
   "execution_count": null,
   "id": "919e8ef0567ad2cf",
   "metadata": {
    "collapsed": false,
    "execution": {
     "iopub.execute_input": "2025-03-18T22:42:25.790154Z",
     "iopub.status.busy": "2025-03-18T22:42:25.789954Z",
     "iopub.status.idle": "2025-03-18T22:42:38.165783Z",
     "shell.execute_reply": "2025-03-18T22:42:38.164791Z"
    },
    "jupyter": {
     "source_hidden": true
    },
    "papermill": {
     "duration": 12.379365,
     "end_time": "2025-03-18T22:42:38.167060",
     "exception": false,
     "start_time": "2025-03-18T22:42:25.787695",
     "status": "completed"
    },
    "tags": []
   },
   "outputs": [],
   "source": [
    "base_dir = os.path.abspath(os.path.join(os.getcwd(), \"../\")) \n",
    "data_path = os.path.join(base_dir, \"lakehouse_srag/data/bronze/\")\n",
    "df = spark.read.csv(\n",
    "    data_path,\n",
    "    header=True,\n",
    "    inferSchema=True,\n",
    "    sep=\";\"\n",
    ")"
   ]
  },
  {
   "cell_type": "markdown",
   "id": "9d34ccbd362d250a",
   "metadata": {
    "collapsed": false,
    "papermill": {
     "duration": 0.001909,
     "end_time": "2025-03-18T22:42:38.171057",
     "exception": false,
     "start_time": "2025-03-18T22:42:38.169148",
     "status": "completed"
    },
    "tags": []
   },
   "source": [
    "## Tratando colunas do tipo data"
   ]
  },
  {
   "cell_type": "code",
   "execution_count": null,
   "id": "d731a30cddf42ada",
   "metadata": {
    "collapsed": false,
    "execution": {
     "iopub.execute_input": "2025-03-18T22:42:38.177215Z",
     "iopub.status.busy": "2025-03-18T22:42:38.176774Z",
     "iopub.status.idle": "2025-03-18T22:42:38.818767Z",
     "shell.execute_reply": "2025-03-18T22:42:38.817921Z"
    },
    "jupyter": {
     "source_hidden": true
    },
    "papermill": {
     "duration": 0.646831,
     "end_time": "2025-03-18T22:42:38.819906",
     "exception": false,
     "start_time": "2025-03-18T22:42:38.173075",
     "status": "completed"
    },
    "tags": []
   },
   "outputs": [],
   "source": [
    "date_columns = [\n",
    "    'DT_NOTIFIC', 'DT_SIN_PRI', 'DT_NASC', 'DT_UT_DOSE',\n",
    "    'DT_VAC_MAE', 'DT_DOSEUNI', 'DT_1_DOSE', 'DT_2_DOSE', \n",
    "    'DT_ANTIVIR', 'DT_INTERNA', 'DT_ENTUTI', 'DT_SAIDUTI',\n",
    "    'DT_COLETA', 'DT_PCR', 'DT_RES', 'DT_EVOLUCA',\n",
    "    'DT_ENCERRA', 'DT_DIGITA'\n",
    "]\n",
    "\n",
    "for col in date_columns:\n",
    "    df = df.withColumn(col, F.to_date(F.col(col), 'dd/MM/yyyy'))\n",
    "df = df.drop('DT_RES') # Essa coluna só serve pra dar dor de cabeça"
   ]
  },
  {
   "cell_type": "markdown",
   "id": "339113b77c271fbc",
   "metadata": {
    "collapsed": false,
    "papermill": {
     "duration": 0.001982,
     "end_time": "2025-03-18T22:42:38.823931",
     "exception": false,
     "start_time": "2025-03-18T22:42:38.821949",
     "status": "completed"
    },
    "tags": []
   },
   "source": [
    "## Tratando colunas do tipo inteiro"
   ]
  },
  {
   "cell_type": "code",
   "execution_count": null,
   "id": "14f441b44e38dadc",
   "metadata": {
    "execution": {
     "iopub.execute_input": "2025-03-18T22:42:38.829425Z",
     "iopub.status.busy": "2025-03-18T22:42:38.828885Z",
     "iopub.status.idle": "2025-03-18T22:42:43.008563Z",
     "shell.execute_reply": "2025-03-18T22:42:43.007853Z"
    },
    "jupyter": {
     "source_hidden": true
    },
    "papermill": {
     "duration": 4.18395,
     "end_time": "2025-03-18T22:42:43.009876",
     "exception": false,
     "start_time": "2025-03-18T22:42:38.825926",
     "status": "completed"
    },
    "tags": []
   },
   "outputs": [],
   "source": [
    "int_columns = [\n",
    "    'SEM_NOT', 'SEM_PRI', 'NU_IDADE_N', 'TP_IDADE', 'CS_GESTANT',\n",
    "    'CS_RACA', 'CS_ESCOL_N', 'CO_PAIS', 'CS_ZONA', 'SURTO_SG',\n",
    "    'NOSOCOMIAL', 'AVE_SUINO', 'FEBRE', 'TOSSE', 'GARGANTA', 'DISPNEIA',\n",
    "    'DESC_RESP', 'SATURACAO', 'DIARREIA', 'VOMITO', 'OUTRO_SIN',\n",
    "    'PUERPERA', 'FATOR_RISC', 'CARDIOPATI', 'HEMATOLOGI', 'SIND_DOWN', \n",
    "    'HEPATICA', 'ASMA', 'DIABETES', 'NEUROLOGIC', 'PNEUMOPATI', \n",
    "    'IMUNODEPRE', 'RENAL', 'OBESIDADE', 'OBES_IMC', 'OUT_MORBI',\n",
    "    'VACINA', 'MAE_VAC', 'ANTIVIRAL', 'TP_ANTIVIR', 'HOSPITAL',\n",
    "    'UTI', 'SUPORT_VEN', 'RAIOX_RES', 'AMOSTRA', 'TP_AMOSTRA', \n",
    "    'PCR_RESUL', 'PCR_RESUL', 'POS_PCRFLU', 'PCR_FLUASU',\n",
    "    'FLUASU_OUT', 'PCR_FLUBLI', 'FLUBLI_OUT', 'POS_PCROUT','PCR_VSR',\n",
    "    'PCR_PARA1', 'PCR_PARA2', 'PCR_PARA3', 'PCR_PARA4', 'PCR_ADENO', \n",
    "    'PCR_BOCA','PCR_RINO', 'PCR_OUTRO', 'PCR_METAP', 'CLASSI_FIN',\n",
    "    'CLASSI_OUT', 'CRITERIO', 'EVOLUCAO', 'HISTO_VGM', 'PAIS_VGM', \n",
    "    'CO_PS_VGM', 'LO_PS_VGM', 'DT_VGM', 'DT_RT_VGM', 'PCR_SARS2', 'PAC_COCBO',\n",
    "    'PAC_DSCBO', 'OUT_ANIM', 'DOR_ABD', 'FADIGA', 'PERD_OLFT', 'PERD_PALA',\n",
    "    'TOMO_RES', 'TP_TES_AN', 'POS_AN_FLU', 'TP_FLU_AN', 'POS_AN_OUT',\n",
    "    'AN_SARS2', 'AN_VSR', 'AN_PARA1', 'AN_PARA2', 'AN_PARA3', 'AN_ADENO',\n",
    "    'AN_OUTRO', 'DS_AN_OUT', 'TP_AM_SOR', 'SOR_OUT', 'RES_IGG', 'RES_IGM',\n",
    "    'RES_IGA', 'ESTRANG', 'VACINA_COV', 'TRAT_COV', 'TIPO_TRAT',\n",
    "    'OUT_TRAT', 'CO_DETEC', 'VG_OMS', 'VG_OMSOUT', 'VG_LIN', 'VG_MET',\n",
    "    'VG_METOUT', 'VG_DTRES', 'VG_ENC', 'VG_REINF', 'REINF', 'FAB_ADIC',\n",
    "    'LOT_RE_BI', 'FAB_RE_BI', 'DOSE_ADIC', 'DOS_RE_BI', 'LOTE_ADIC', 'TABAG'\n",
    "]\n",
    "\n",
    "for int_col in int_columns:\n",
    "    df = df.withColumn(int_col, F.col(int_col).cast('int'))"
   ]
  },
  {
   "cell_type": "markdown",
   "id": "2283ab099d4cdfba",
   "metadata": {
    "collapsed": false,
    "papermill": {
     "duration": 0.001949,
     "end_time": "2025-03-18T22:42:43.014442",
     "exception": false,
     "start_time": "2025-03-18T22:42:43.012493",
     "status": "completed"
    },
    "tags": []
   },
   "source": [
    "## Salvando em Parquet"
   ]
  },
  {
   "cell_type": "code",
   "execution_count": null,
   "id": "50c409f1ee5e238a",
   "metadata": {
    "execution": {
     "iopub.execute_input": "2025-03-18T22:42:43.020046Z",
     "iopub.status.busy": "2025-03-18T22:42:43.019835Z",
     "iopub.status.idle": "2025-03-18T22:43:25.747611Z",
     "shell.execute_reply": "2025-03-18T22:43:25.746772Z"
    },
    "jupyter": {
     "source_hidden": true
    },
    "papermill": {
     "duration": 42.732405,
     "end_time": "2025-03-18T22:43:25.748843",
     "exception": false,
     "start_time": "2025-03-18T22:42:43.016438",
     "status": "completed"
    },
    "tags": []
   },
   "outputs": [],
   "source": [
    "base_dir = os.path.abspath(os.path.join(os.getcwd(), \"../\")) \n",
    "data_path = os.path.join(base_dir, \"lakehouse_srag/data/silver/srag.parquet\")\n",
    "df.write \\\n",
    "  .format('parquet') \\\n",
    "  .mode(\"overwrite\") \\\n",
    "  .save(data_path)\n"
   ]
  }
 ],
 "metadata": {
  "kernelspec": {
   "display_name": "Python 3",
   "language": "python",
   "name": "python3"
  },
  "language_info": {
   "codemirror_mode": {
    "name": "ipython",
    "version": 3
   },
   "file_extension": ".py",
   "mimetype": "text/x-python",
   "name": "python",
   "nbconvert_exporter": "python",
   "pygments_lexer": "ipython3",
   "version": "3.11.9"
  },
  "papermill": {
   "default_parameters": {},
   "duration": 67.352709,
   "end_time": "2025-03-18T22:43:28.369868",
   "environment_variables": {},
   "exception": null,
   "input_path": "/home/daniel/lakehouse_srag/scripts/srag_silver.ipynb",
   "output_path": "/home/daniel/lakehouse_srag/scripts/srag_silver.ipynb",
   "parameters": {
    "execution_date": "2025-03-17"
   },
   "start_time": "2025-03-18T22:42:21.017159",
   "version": "2.6.0"
  }
 },
 "nbformat": 4,
 "nbformat_minor": 5
}
