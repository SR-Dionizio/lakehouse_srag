{
 "cells": [
  {
   "cell_type": "code",
   "id": "initial_id",
   "metadata": {
    "collapsed": true
   },
   "source": [
    "import os\n",
    "\n",
    "from pyspark.sql import SparkSession\n",
    "import pyspark.sql.functions as F"
   ],
   "outputs": [],
   "execution_count": null
  },
  {
   "cell_type": "code",
   "source": [
    "spark = SparkSession.builder \\\n",
    "    .appName(\"SragSilver\") \\\n",
    "    .master(\"local[*]\") \\\n",
    "    .getOrCreate()\n",
    "spark.conf.set(\"spark.sql.legacy.timeParserPolicy\", \"LEGACY\")"
   ],
   "metadata": {
    "collapsed": false
   },
   "id": "17af2a9f712bdb0f",
   "outputs": [],
   "execution_count": null
  },
  {
   "cell_type": "code",
   "source": [
    "spark.sparkContext.setLogLevel(\"ERROR\")"
   ],
   "metadata": {
    "collapsed": false
   },
   "id": "8263ee5541d06932",
   "outputs": [],
   "execution_count": null
  },
  {
   "cell_type": "code",
   "source": [
    "base_dir = os.path.abspath(os.path.join(os.getcwd(), \"../\")) \n",
    "data_path = os.path.join(base_dir, \"data/bronze/\")\n",
    "df = spark.read.csv(\n",
    "    data_path,\n",
    "    header=True,\n",
    "    inferSchema=True,\n",
    "    sep=\";\"\n",
    ")"
   ],
   "metadata": {
    "collapsed": false
   },
   "id": "919e8ef0567ad2cf",
   "outputs": [],
   "execution_count": null
  },
  {
   "cell_type": "code",
   "source": [
    "date_columns = [\n",
    "    'DT_NOTIFIC', 'DT_SIN_PRI', 'DT_NASC', 'DT_UT_DOSE',\n",
    "    'DT_VAC_MAE', 'DT_DOSEUNI', 'DT_1_DOSE', 'DT_2_DOSE', \n",
    "    'DT_ANTIVIR', 'DT_INTERNA', 'DT_ENTUTI', 'DT_SAIDUTI',\n",
    "    'DT_COLETA', 'DT_PCR', 'DT_RES', 'DT_EVOLUCA',\n",
    "    'DT_ENCERRA', 'DT_DIGITA'\n",
    "]\n",
    "\n",
    "for col in date_columns:\n",
    "    df = df.withColumn(col, F.to_date(F.col(col), 'dd/MM/yyyy'))\n",
    "df = df.drop('DT_RES') # Essa coluna só serve pra dar dor de cabeça"
   ],
   "metadata": {
    "collapsed": false
   },
   "id": "d731a30cddf42ada",
   "outputs": [],
   "execution_count": null
  },
  {
   "metadata": {},
   "cell_type": "code",
   "source": [
    "int_columns = [\n",
    "    'SEM_NOT', 'SEM_PRI', 'NU_IDADE_N', 'TP_IDADE', 'CS_GESTANT',\n",
    "    'CS_RACA', 'CS_ESCOL_N', 'CO_PAIS', 'CS_ZONA', 'SURTO_SG',\n",
    "    'NOSOCOMIAL', 'AVE_SUINO', 'FEBRE', 'TOSSE', 'GARGANTA', 'DISPNEIA',\n",
    "    'DESC_RESP', 'SATURACAO', 'DIARREIA', 'VOMITO', 'OUTRO_SIN',\n",
    "    'PUERPERA', 'FATOR_RISC', 'CARDIOPATI', 'HEMATOLOGI', 'SIND_DOWN', \n",
    "    'HEPATICA', 'ASMA', 'DIABETES', 'NEUROLOGIC', 'PNEUMOPATI', \n",
    "    'IMUNODEPRE', 'RENAL', 'OBESIDADE', 'OBES_IMC', 'OUT_MORBI',\n",
    "    'VACINA', 'MAE_VAC', 'ANTIVIRAL', 'TP_ANTIVIR', 'HOSPITAL',\n",
    "    'UTI', 'SUPORT_VEN', 'RAIOX_RES', 'AMOSTRA', 'TP_AMOSTRA', \n",
    "    'PCR_RESUL', 'PCR_RESUL', 'POS_PCRFLU', 'PCR_FLUASU',\n",
    "    'FLUASU_OUT', 'PCR_FLUBLI', 'FLUBLI_OUT', 'POS_PCROUT','PCR_VSR',\n",
    "    'PCR_PARA1', 'PCR_PARA2', 'PCR_PARA3', 'PCR_PARA4', 'PCR_ADENO', \n",
    "    'PCR_BOCA','PCR_RINO', 'PCR_OUTRO', 'PCR_METAP', 'CLASSI_FIN',\n",
    "    'CLASSI_OUT', 'CRITERIO', 'EVOLUCAO', 'HISTO_VGM', 'PAIS_VGM', \n",
    "    'CO_PS_VGM', 'LO_PS_VGM', 'DT_VGM', 'DT_RT_VGM', 'PCR_SARS2', 'PAC_COCBO',\n",
    "    'PAC_DSCBO', 'OUT_ANIM', 'DOR_ABD', 'FADIGA', 'PERD_OLFT', 'PERD_PALA',\n",
    "    'TOMO_RES', 'TP_TES_AN', 'POS_AN_FLU', 'TP_FLU_AN', 'POS_AN_OUT',\n",
    "    'AN_SARS2', 'AN_VSR', 'AN_PARA1', 'AN_PARA2', 'AN_PARA3', 'AN_ADENO',\n",
    "    'AN_OUTRO', 'DS_AN_OUT', 'TP_AM_SOR', 'SOR_OUT', 'RES_IGG', 'RES_IGM',\n",
    "    'RES_IGA', 'ESTRANG', 'VACINA_COV', 'TRAT_COV', 'TIPO_TRAT',\n",
    "    'OUT_TRAT', 'CO_DETEC', 'VG_OMS', 'VG_OMSOUT', 'VG_LIN', 'VG_MET',\n",
    "    'VG_METOUT', 'VG_DTRES', 'VG_ENC', 'VG_REINF', 'REINF', 'FAB_ADIC',\n",
    "    'LOT_RE_BI', 'FAB_RE_BI', 'DOSE_ADIC', 'DOS_RE_BI', 'LOTE_ADIC', 'TABAG'\n",
    "]\n",
    "\n",
    "for int_col in int_columns:\n",
    "    df = df.withColumn(int_col, F.col(int_col).cast('int'))"
   ],
   "id": "14f441b44e38dadc",
   "outputs": [],
   "execution_count": null
  },
  {
   "metadata": {},
   "cell_type": "code",
   "source": [
    "base_dir = os.path.abspath(os.path.join(os.getcwd(), \"../\")) \n",
    "data_path = os.path.join(base_dir, \"data/silver/srag.parquet\")\n",
    "df.write \\\n",
    "  .format('parquet') \\\n",
    "  .mode(\"overwrite\") \\\n",
    "  .save(data_path)\n"
   ],
   "id": "50c409f1ee5e238a",
   "outputs": [],
   "execution_count": null
  }
 ],
 "metadata": {
  "kernelspec": {
   "display_name": "Python 3",
   "language": "python",
   "name": "python3"
  },
  "language_info": {
   "codemirror_mode": {
    "name": "ipython",
    "version": 2
   },
   "file_extension": ".py",
   "mimetype": "text/x-python",
   "name": "python",
   "nbconvert_exporter": "python",
   "pygments_lexer": "ipython2",
   "version": "2.7.6"
  }
 },
 "nbformat": 4,
 "nbformat_minor": 5
}
